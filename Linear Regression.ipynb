{
 "cells": [
  {
   "cell_type": "code",
   "execution_count": 10,
   "id": "5811d56c",
   "metadata": {},
   "outputs": [],
   "source": [
    "#basic Linear regression model coding using python \n",
    "\n",
    "import pandas as pd\n",
    "import numpy as np\n",
    "import matplotlib.pyplot as plt"
   ]
  },
  {
   "cell_type": "code",
   "execution_count": 11,
   "id": "a9800260",
   "metadata": {},
   "outputs": [],
   "source": [
    "data = pd.read_csv('/home/parth/[PROGRAMMING] Data Science and Machine Learning/Data Sets/Linear regression data set.csv')"
   ]
  },
  {
   "cell_type": "code",
   "execution_count": 12,
   "id": "ba28db87",
   "metadata": {},
   "outputs": [
    {
     "data": {
      "text/html": [
       "<div>\n",
       "<style scoped>\n",
       "    .dataframe tbody tr th:only-of-type {\n",
       "        vertical-align: middle;\n",
       "    }\n",
       "\n",
       "    .dataframe tbody tr th {\n",
       "        vertical-align: top;\n",
       "    }\n",
       "\n",
       "    .dataframe thead th {\n",
       "        text-align: right;\n",
       "    }\n",
       "</style>\n",
       "<table border=\"1\" class=\"dataframe\">\n",
       "  <thead>\n",
       "    <tr style=\"text-align: right;\">\n",
       "      <th></th>\n",
       "      <th>x</th>\n",
       "      <th>y</th>\n",
       "    </tr>\n",
       "  </thead>\n",
       "  <tbody>\n",
       "    <tr>\n",
       "      <th>0</th>\n",
       "      <td>77</td>\n",
       "      <td>79.775152</td>\n",
       "    </tr>\n",
       "    <tr>\n",
       "      <th>1</th>\n",
       "      <td>21</td>\n",
       "      <td>23.177279</td>\n",
       "    </tr>\n",
       "    <tr>\n",
       "      <th>2</th>\n",
       "      <td>22</td>\n",
       "      <td>25.609262</td>\n",
       "    </tr>\n",
       "    <tr>\n",
       "      <th>3</th>\n",
       "      <td>20</td>\n",
       "      <td>17.857388</td>\n",
       "    </tr>\n",
       "    <tr>\n",
       "      <th>4</th>\n",
       "      <td>36</td>\n",
       "      <td>41.849864</td>\n",
       "    </tr>\n",
       "    <tr>\n",
       "      <th>...</th>\n",
       "      <td>...</td>\n",
       "      <td>...</td>\n",
       "    </tr>\n",
       "    <tr>\n",
       "      <th>295</th>\n",
       "      <td>71</td>\n",
       "      <td>68.545888</td>\n",
       "    </tr>\n",
       "    <tr>\n",
       "      <th>296</th>\n",
       "      <td>46</td>\n",
       "      <td>47.334876</td>\n",
       "    </tr>\n",
       "    <tr>\n",
       "      <th>297</th>\n",
       "      <td>55</td>\n",
       "      <td>54.090637</td>\n",
       "    </tr>\n",
       "    <tr>\n",
       "      <th>298</th>\n",
       "      <td>62</td>\n",
       "      <td>63.297171</td>\n",
       "    </tr>\n",
       "    <tr>\n",
       "      <th>299</th>\n",
       "      <td>47</td>\n",
       "      <td>52.459467</td>\n",
       "    </tr>\n",
       "  </tbody>\n",
       "</table>\n",
       "<p>300 rows × 2 columns</p>\n",
       "</div>"
      ],
      "text/plain": [
       "      x          y\n",
       "0    77  79.775152\n",
       "1    21  23.177279\n",
       "2    22  25.609262\n",
       "3    20  17.857388\n",
       "4    36  41.849864\n",
       "..   ..        ...\n",
       "295  71  68.545888\n",
       "296  46  47.334876\n",
       "297  55  54.090637\n",
       "298  62  63.297171\n",
       "299  47  52.459467\n",
       "\n",
       "[300 rows x 2 columns]"
      ]
     },
     "execution_count": 12,
     "metadata": {},
     "output_type": "execute_result"
    }
   ],
   "source": [
    "data\n",
    "#We will implement the following data in Linear regression, sources of the dataset is Kaggle\n"
   ]
  },
  {
   "cell_type": "code",
   "execution_count": 13,
   "id": "bab15aa5",
   "metadata": {},
   "outputs": [],
   "source": [
    "X = data['x'].values\n",
    "Y = data['y'].values #Collecting X and Y columns "
   ]
  },
  {
   "cell_type": "code",
   "execution_count": 16,
   "id": "f5622a9b",
   "metadata": {},
   "outputs": [
    {
     "name": "stdout",
     "output_type": "stream",
     "text": [
      "1.0143353551195182 -0.46181077366119894\n"
     ]
    }
   ],
   "source": [
    "#finding mean of x and y values\n",
    "mean_x = np.mean(X)\n",
    "mean_y = np.mean(Y)\n",
    "\n",
    "m = len(X) #Calculating Length\n",
    "\n",
    "numerator = 0\n",
    "denominator = 0\n",
    "\n",
    "for i in range(m):\n",
    "    numerator += (X[i] - mean_x)*(Y[i] - mean_y)\n",
    "    denominator += (X[i] - mean_x)**2\n",
    "   #Calculating \"m\" and \"c\" of y = mx + c (The regression line) \n",
    "b1 = numerator/denominator\n",
    "b0 = mean_y - (b1*mean_x)\n",
    "\n",
    "print(b1,b0) #Printing the values of \"m\" and \"c\""
   ]
  },
  {
   "cell_type": "code",
   "execution_count": 30,
   "id": "b080ab09",
   "metadata": {},
   "outputs": [
    {
     "data": {
      "image/png": "[encoded data removed]",
      "text/plain": [
       "<Figure size 432x288 with 1 Axes>"
      ]
     },
     "metadata": {
      "needs_background": "light"
     },
     "output_type": "display_data"
    }
   ],
   "source": [
    "#values above are m and c\n",
    "#plotting line and the points\n",
    "\n",
    "max_x = np.max(X)+7\n",
    "min_x = np.min(X)-7 #using numpy to create optimal range for X and Y axes\n",
    "\n",
    "x = np.linspace(min_x,max_x)\n",
    "y = b0 + b1*x\n",
    "#Plotting the linear regression line and scatterplot of the dataset points\n",
    "plt.plot(x,y,color = 'red', label = 'Regression line')\n",
    "\n",
    "plt.scatter(X,Y, c = 'green', label = 'Scatterplot')\n",
    "\n",
    "plt.xlabel('Average fuel consumption')\n",
    "plt.ylabel('Fuel Consumption')\n",
    "plt.legend()\n",
    "plt.show()"
   ]
  },
  {
   "cell_type": "code",
   "execution_count": 21,
   "id": "3661031a",
   "metadata": {},
   "outputs": [
    {
     "name": "stdout",
     "output_type": "stream",
     "text": [
      "0.9891203611402716\n"
     ]
    }
   ],
   "source": [
    "#calculating R coefficient to check the fit of the line\n",
    "ss_t = 0\n",
    "ss_r = 0\n",
    "for i in range(m):\n",
    "    y_predicted = b0 + b1*X[i]\n",
    "    ss_t += (Y[i] - mean_y)**2\n",
    "    ss_r += (Y[i] - y_predicted)**2\n",
    "    \n",
    "R2 = 1 - (ss_r/ss_t)\n",
    "print(R2)\n"
   ]
  },
  {
   "cell_type": "code",
   "execution_count": null,
   "id": "d19d8cc7",
   "metadata": {},
   "outputs": [],
   "source": [
    "##Since the R coefficient is very close to 1 so the line is a great fit"
   ]
  }
 ],
 "metadata": {
  "kernelspec": {
   "display_name": "Python 3 (ipykernel)",
   "language": "python",
   "name": "python3"
  },
  "language_info": {
   "codemirror_mode": {
    "name": "ipython",
    "version": 3
   },
   "file_extension": ".py",
   "mimetype": "text/x-python",
   "name": "python",
   "nbconvert_exporter": "python",
   "pygments_lexer": "ipython3",
   "version": "3.9.12"
  }
 },
 "nbformat": 4,
 "nbformat_minor": 5
}
